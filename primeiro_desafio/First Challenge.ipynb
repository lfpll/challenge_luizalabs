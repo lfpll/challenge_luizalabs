{
 "cells": [
  {
   "cell_type": "code",
   "execution_count": 1,
   "id": "a274f9e7",
   "metadata": {},
   "outputs": [
    {
     "name": "stdout",
     "output_type": "stream",
     "text": [
      "+---------+----------+\n",
      "|     word|count_word|\n",
      "+---------+----------+\n",
      "|    purus|        20|\n",
      "|      est|        10|\n",
      "|   mattis|        10|\n",
      "|phasellus|         7|\n",
      "|  rhoncus|        12|\n",
      "|  cubilia|        11|\n",
      "|     nunc|        12|\n",
      "|       at|        11|\n",
      "| interdum|        18|\n",
      "|     ante|        13|\n",
      "|      ac.|         2|\n",
      "|     amet|        11|\n",
      "|   congue|        10|\n",
      "|    justo|        11|\n",
      "|    eget,|         2|\n",
      "|    vitae|        14|\n",
      "|    lacus|         7|\n",
      "|   sociis|        16|\n",
      "|  quisque|        18|\n",
      "| inceptos|        16|\n",
      "+---------+----------+\n",
      "only showing top 20 rows\n",
      "\n"
     ]
    }
   ],
   "source": [
    "from pyspark.sql import SparkSession\n",
    "from datetime import datetime\n",
    "from pyspark.sql import functions as F\n",
    "\n",
    "spark = SparkSession.builder.appName(\"first_challenge\").getOrCreate()\n",
    "sc = spark.sparkContext\n",
    "\n",
    "rdd = spark.sparkContext.textFile(\"wordcount.txt\")\n",
    "word_count = rdd.flatMap(lambda word: word.split(\" \")).map(lambda word: (word.lower(),1) if len(word) < 11 \n",
    "                                                           else ('MAIORES QUE 10',1))\n",
    "\n",
    "grouped_data = word_count.reduceByKey(lambda a,b:a +b)\n",
    "\n",
    "df = spark.createDataFrame(grouped_data)\n",
    "\n",
    "df.selectExpr('_1 as word','_2 as count_word').show()"
   ]
  }
 ],
 "metadata": {
  "kernelspec": {
   "display_name": "Python 3",
   "language": "python",
   "name": "python3"
  },
  "language_info": {
   "codemirror_mode": {
    "name": "ipython",
    "version": 3
   },
   "file_extension": ".py",
   "mimetype": "text/x-python",
   "name": "python",
   "nbconvert_exporter": "python",
   "pygments_lexer": "ipython3",
   "version": "3.9.5"
  }
 },
 "nbformat": 4,
 "nbformat_minor": 5
}
