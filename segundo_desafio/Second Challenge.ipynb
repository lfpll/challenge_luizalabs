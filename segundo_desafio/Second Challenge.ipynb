{
 "cells": [
  {
   "cell_type": "code",
   "execution_count": 2,
   "id": "67e21dcd",
   "metadata": {},
   "outputs": [
    {
     "name": "stdout",
     "output_type": "stream",
     "text": [
      "+--------------------+---+--------------------+--------------+\n",
      "|      codigo_cliente|age|       lista_pedidos|numero_pedidos|\n",
      "+--------------------+---+--------------------+--------------+\n",
      "|057ae5d7ef3fcdd74...| 67|[[413131491beb7ab...|             3|\n",
      "|20bd2aa7874c75558...| 52|[[f629e03c1df7976...|             2|\n",
      "|2ee219338175cf9a3...| 56|[[a196b59841c1b9e...|             2|\n",
      "|3795da4cfbd4e112e...| 59|[[63c434ce079842c...|             2|\n",
      "|44a92ee8614d92d9c...| 38|[[c53dc1fa839192c...|             2|\n",
      "|5900d20f6d2db0a90...| 31|[[eccde45a3a207be...|             2|\n",
      "|621bfc6f65835fa32...| 65|[[45018ca4e1401be...|             3|\n",
      "|78b9e69c2edca7234...| 69|[[0246a03dd2b9423...|             2|\n",
      "|97116589c0613591d...| 38|[[52f2e930774722a...|             2|\n",
      "|a18a317475d9675a6...| 38|[[bdf338beb59b501...|             2|\n",
      "|b4bd9982468dec686...| 58|[[bf4019845b6a2a2...|             2|\n",
      "|be598b79ed5740dc6...| 57|[[3de95561763439c...|             2|\n",
      "|c4a135c3ffb30c3f4...| 37|[[54a5414bc651310...|             2|\n",
      "|c81d61155e2c088e7...| 48|[[b570c24ff8723ec...|             2|\n",
      "|cdc70ed1fbdc70d75...| 45|[[5ee8641bb400f01...|             2|\n",
      "|d6d4bfc0c9d0c2d49...| 47|[[8750d4ef9cf3a8d...|             2|\n",
      "|f1162098bb52f95bb...| 60|[[4a26207b3e1bc82...|             2|\n",
      "|129ce58428b95ec63...| 42|[[d506c952500e9c5...|             2|\n",
      "|23f2de8e41bdc15de...| 41|[[7a692e7f55621dd...|             2|\n",
      "|620d84e044230ca86...| 53|[[017c73f42332f98...|             2|\n",
      "+--------------------+---+--------------------+--------------+\n",
      "only showing top 20 rows\n",
      "\n"
     ]
    }
   ],
   "source": [
    "from pyspark.sql import SparkSession\n",
    "from datetime import datetime\n",
    "from pyspark.sql import functions as F\n",
    "\n",
    "now = datetime.now()\n",
    "spark = SparkSession.builder.appName(\"first_challenge\").getOrCreate()\n",
    "sc = spark.sparkContext\n",
    "black_friday_dates = [\"2020-11-27\",\"2019-11-29\",\"2018-11-23\",\"2017-11-24\",\"2016-11-25\"]\n",
    "\n",
    "df = spark.read.csv(\"./clientes_pedidos.csv\",header=True)\n",
    "\n",
    "# Correcting datatype of column data_pedido\n",
    "df_with_time = df.withColumn(\"date_pedido\",F.from_unixtime(\"data_pedido\",\"yyyy-MM-dd\").cast('date'))\n",
    "\n",
    "# Adding age\n",
    "df_with_age  = df_with_time.withColumn('age',(F.months_between(F.lit(now),\n",
    "                                        F.col('data_nascimento_cliente'),True)/12).cast('int'))\n",
    "\n",
    "# Buyers who bougth on black friday\n",
    "buyers_from_bf = df_with_age.where(F.col('date_pedido').isin(black_friday_dates))\n",
    "\n",
    "# Join pedido with date\n",
    "joined_date_df =  buyers_from_bf.withColumn(\"joined_pedido\",F.array(\"codigo_pedido\",\"date_pedido\"))\n",
    "\n",
    "# Aggregated values by rules set on test\n",
    "joined_agg = joined_date_df.where('age > 30').groupBy(\n",
    "    'codigo_cliente','age').agg(\n",
    "    F.collect_list(\"joined_pedido\").alias(\"lista_pedidos\"),\n",
    "    F.count(\"joined_pedido\").alias(\"numero_pedidos\")).where(\"numero_pedidos > 2\")\n",
    "\n",
    "\n",
    "joined_agg.show()"
   ]
  }
 ],
 "metadata": {
  "kernelspec": {
   "display_name": "Python 3",
   "language": "python",
   "name": "python3"
  },
  "language_info": {
   "codemirror_mode": {
    "name": "ipython",
    "version": 3
   },
   "file_extension": ".py",
   "mimetype": "text/x-python",
   "name": "python",
   "nbconvert_exporter": "python",
   "pygments_lexer": "ipython3",
   "version": "3.9.5"
  }
 },
 "nbformat": 4,
 "nbformat_minor": 5
}